{
  "nbformat": 4,
  "nbformat_minor": 0,
  "metadata": {
    "colab": {
      "name": "kmp-matcher.ipynb",
      "provenance": [],
      "collapsed_sections": [],
      "authorship_tag": "ABX9TyPTuO5NsMUDSBwo7iG2K+/r",
      "include_colab_link": true
    },
    "kernelspec": {
      "name": "python3",
      "display_name": "Python 3"
    }
  },
  "cells": [
    {
      "cell_type": "markdown",
      "metadata": {
        "id": "view-in-github",
        "colab_type": "text"
      },
      "source": [
        "<a href=\"https://colab.research.google.com/github/Eereenah/advanced-algo/blob/master/kmp_matcher.ipynb\" target=\"_parent\"><img src=\"https://colab.research.google.com/assets/colab-badge.svg\" alt=\"Open In Colab\"/></a>"
      ]
    },
    {
      "cell_type": "code",
      "metadata": {
        "id": "psMT4gmyUdsM",
        "colab_type": "code",
        "colab": {}
      },
      "source": [
        "import numpy as np"
      ],
      "execution_count": 0,
      "outputs": []
    },
    {
      "cell_type": "code",
      "metadata": {
        "id": "2o4MXP76jffq",
        "colab_type": "code",
        "colab": {}
      },
      "source": [
        "def compute_prefix(p):\n",
        "  m = len(p)\n",
        "  pi = np.zeros(m + 1, dtype=int)\n",
        "  pi[1] = 0\n",
        "  k = 0\n",
        "  for q in range(2, m + 1):\n",
        "    while k > 0 and p[k] != p[q - 1]:\n",
        "      k = pi[k]\n",
        "    if p[k] == p[q - 1]:\n",
        "      k += 1\n",
        "    pi[q] = k\n",
        "  print('the values of prefix function are: ', np.delete(pi, 0))\n",
        "  return pi"
      ],
      "execution_count": 0,
      "outputs": []
    },
    {
      "cell_type": "code",
      "metadata": {
        "id": "uzWN7qs6tXhV",
        "colab_type": "code",
        "colab": {}
      },
      "source": [
        "def kmp_matcher(t, p):\n",
        "  m = len(p)\n",
        "  n = len(t)\n",
        "  pi = compute_prefix(p)\n",
        "  q = 0\n",
        "  for i in range(n):\n",
        "    while q > 0 and p[q] != t[i]:\n",
        "      q = pi[q]\n",
        "    if p[q] == t[i]:\n",
        "      q += 1\n",
        "    if q == m:\n",
        "      print('Pattern occurs with shift ', i - m + 1)\n",
        "      q = pi[q]"
      ],
      "execution_count": 0,
      "outputs": []
    },
    {
      "cell_type": "code",
      "metadata": {
        "id": "9Lm_DpH4utnt",
        "colab_type": "code",
        "colab": {}
      },
      "source": [
        "t = 'bababbababbababb'\n",
        "p = 'ababbab'"
      ],
      "execution_count": 0,
      "outputs": []
    },
    {
      "cell_type": "code",
      "metadata": {
        "id": "r8fBR_gMvDo0",
        "colab_type": "code",
        "colab": {
          "base_uri": "https://localhost:8080/",
          "height": 72
        },
        "outputId": "58293f58-a3c7-49c2-edac-507557204700"
      },
      "source": [
        "kmp_matcher(t, p)"
      ],
      "execution_count": 5,
      "outputs": [
        {
          "output_type": "stream",
          "text": [
            "the values of prefix function are:  [0 0 1 2 0 1 2]\n",
            "Pattern occurs with shift  1\n",
            "Pattern occurs with shift  6\n"
          ],
          "name": "stdout"
        }
      ]
    },
    {
      "cell_type": "code",
      "metadata": {
        "id": "L3CgXo1tvHa1",
        "colab_type": "code",
        "colab": {}
      },
      "source": [
        ""
      ],
      "execution_count": 0,
      "outputs": []
    }
  ]
}