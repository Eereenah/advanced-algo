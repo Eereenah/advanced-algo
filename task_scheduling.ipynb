{
  "nbformat": 4,
  "nbformat_minor": 0,
  "metadata": {
    "colab": {
      "name": "task_scheduling.ipynb",
      "provenance": [],
      "collapsed_sections": [],
      "authorship_tag": "ABX9TyMaGVaV/N24egTfsbzWXrGB",
      "include_colab_link": true
    },
    "kernelspec": {
      "name": "python3",
      "display_name": "Python 3"
    }
  },
  "cells": [
    {
      "cell_type": "markdown",
      "metadata": {
        "id": "view-in-github",
        "colab_type": "text"
      },
      "source": [
        "<a href=\"https://colab.research.google.com/github/Eereenah/advanced-algo/blob/master/task_scheduling.ipynb\" target=\"_parent\"><img src=\"https://colab.research.google.com/assets/colab-badge.svg\" alt=\"Open In Colab\"/></a>"
      ]
    },
    {
      "cell_type": "markdown",
      "metadata": {
        "id": "YwRSkbhV2t-N",
        "colab_type": "text"
      },
      "source": [
        "# Optimal Task Scheduling"
      ]
    },
    {
      "cell_type": "code",
      "metadata": {
        "id": "Q_0XkYjC3YJz",
        "colab_type": "code",
        "colab": {}
      },
      "source": [
        "import numpy as np\n",
        "import math"
      ],
      "execution_count": 0,
      "outputs": []
    },
    {
      "cell_type": "code",
      "metadata": {
        "id": "a4AwiaHm2xKh",
        "colab_type": "code",
        "colab": {}
      },
      "source": [
        "a = [1, 2, 3, 4, 5, 6, 7, 8]\n",
        "d = [2, 3, 1, 2, 4, 3, 5, 1]\n",
        "w = [15, 12, 10, 8, 7, 5, 4, 1]"
      ],
      "execution_count": 0,
      "outputs": []
    },
    {
      "cell_type": "code",
      "metadata": {
        "id": "TIV-eXcp4zrW",
        "colab_type": "code",
        "colab": {
          "base_uri": "https://localhost:8080/",
          "height": 164
        },
        "outputId": "8461fa18-095e-4a2e-c31a-5e67d9a46c8d"
      },
      "source": [
        "tasks = np.array([a, d, w]).T\n",
        "tasks"
      ],
      "execution_count": 3,
      "outputs": [
        {
          "output_type": "execute_result",
          "data": {
            "text/plain": [
              "array([[ 1,  2, 15],\n",
              "       [ 2,  3, 12],\n",
              "       [ 3,  1, 10],\n",
              "       [ 4,  2,  8],\n",
              "       [ 5,  4,  7],\n",
              "       [ 6,  3,  5],\n",
              "       [ 7,  5,  4],\n",
              "       [ 8,  1,  1]])"
            ]
          },
          "metadata": {
            "tags": []
          },
          "execution_count": 3
        }
      ]
    },
    {
      "cell_type": "code",
      "metadata": {
        "id": "_ISA85oR43Kc",
        "colab_type": "code",
        "colab": {}
      },
      "source": [
        "# sort the tasks according to the weights and add a column for new ordering\n",
        "tasks = tasks[np.argsort(tasks[:,-1])][::-1]\n",
        "# keep the ordered tasks in a new array\n",
        "ordered = np.zeros((tasks.shape[0], 3), dtype = int)"
      ],
      "execution_count": 0,
      "outputs": []
    },
    {
      "cell_type": "code",
      "metadata": {
        "id": "Cr8H0Oj5NeWt",
        "colab_type": "code",
        "colab": {}
      },
      "source": [
        "for i in range(tasks.shape[0]):\n",
        "  j = tasks[i][1] - 1\n",
        "  while(ordered[j][0] != 0):\n",
        "    j = (j - 1)%(tasks.shape[0])\n",
        "  ordered[j] = tasks[i]"
      ],
      "execution_count": 0,
      "outputs": []
    },
    {
      "cell_type": "markdown",
      "metadata": {
        "id": "DZKjDpmtQQWM",
        "colab_type": "text"
      },
      "source": [
        "## The ordered tasks and their deadlines are as follows:"
      ]
    },
    {
      "cell_type": "code",
      "metadata": {
        "id": "KNGrRnTeOYEV",
        "colab_type": "code",
        "colab": {
          "base_uri": "https://localhost:8080/",
          "height": 164
        },
        "outputId": "864922a9-458a-4616-c570-f154e6cf0cd7"
      },
      "source": [
        "ordered"
      ],
      "execution_count": 7,
      "outputs": [
        {
          "output_type": "execute_result",
          "data": {
            "text/plain": [
              "array([[ 3,  1, 10],\n",
              "       [ 1,  2, 15],\n",
              "       [ 2,  3, 12],\n",
              "       [ 5,  4,  7],\n",
              "       [ 7,  5,  4],\n",
              "       [ 8,  1,  1],\n",
              "       [ 6,  3,  5],\n",
              "       [ 4,  2,  8]])"
            ]
          },
          "metadata": {
            "tags": []
          },
          "execution_count": 7
        }
      ]
    },
    {
      "cell_type": "markdown",
      "metadata": {
        "id": "ThFXzVYHQZOD",
        "colab_type": "text"
      },
      "source": [
        "## Penalty:"
      ]
    },
    {
      "cell_type": "code",
      "metadata": {
        "id": "FPzPVdtG44Mg",
        "colab_type": "code",
        "colab": {}
      },
      "source": [
        "penalty = 0\n",
        "for i in range(ordered.shape[0]):\n",
        "  if(ordered[i][1] - 1 < i):\n",
        "    penalty += ordered[i][2]"
      ],
      "execution_count": 0,
      "outputs": []
    },
    {
      "cell_type": "code",
      "metadata": {
        "id": "aVBDfrFu8pRB",
        "colab_type": "code",
        "colab": {
          "base_uri": "https://localhost:8080/",
          "height": 35
        },
        "outputId": "498f3d20-c81f-4f52-a322-c9d5471457fe"
      },
      "source": [
        "penalty"
      ],
      "execution_count": 9,
      "outputs": [
        {
          "output_type": "execute_result",
          "data": {
            "text/plain": [
              "14"
            ]
          },
          "metadata": {
            "tags": []
          },
          "execution_count": 9
        }
      ]
    },
    {
      "cell_type": "code",
      "metadata": {
        "id": "kEvmuBiEK9dd",
        "colab_type": "code",
        "colab": {}
      },
      "source": [
        ""
      ],
      "execution_count": 0,
      "outputs": []
    }
  ]
}