{
  "nbformat": 4,
  "nbformat_minor": 0,
  "metadata": {
    "colab": {
      "name": "finite-automaton-matcher.ipynb",
      "provenance": [],
      "collapsed_sections": [],
      "authorship_tag": "ABX9TyMaxHXdll2Ed4Ajl3DzSxaZ",
      "include_colab_link": true
    },
    "kernelspec": {
      "name": "python3",
      "display_name": "Python 3"
    }
  },
  "cells": [
    {
      "cell_type": "markdown",
      "metadata": {
        "id": "view-in-github",
        "colab_type": "text"
      },
      "source": [
        "<a href=\"https://colab.research.google.com/github/Eereenah/advanced-algo/blob/master/finite_automaton_matcher.ipynb\" target=\"_parent\"><img src=\"https://colab.research.google.com/assets/colab-badge.svg\" alt=\"Open In Colab\"/></a>"
      ]
    },
    {
      "cell_type": "markdown",
      "metadata": {
        "id": "2cTrHIUZtfdU",
        "colab_type": "text"
      },
      "source": [
        "### Define the suffix function $\\sigma(x)$:"
      ]
    },
    {
      "cell_type": "code",
      "metadata": {
        "id": "SjBLlHbyvDXa",
        "colab_type": "code",
        "colab": {}
      },
      "source": [
        "import numpy as np"
      ],
      "execution_count": 0,
      "outputs": []
    },
    {
      "cell_type": "code",
      "metadata": {
        "id": "E7XmaWr7rWmF",
        "colab_type": "code",
        "colab": {}
      },
      "source": [
        "def suffix_fucntion(pqa, pk):\n",
        "  shift = len(pqa) - len(pk)\n",
        "  if shift >= 0:\n",
        "    p = pqa[shift:]\n",
        "    return p == pk\n",
        "  return False"
      ],
      "execution_count": 0,
      "outputs": []
    },
    {
      "cell_type": "code",
      "metadata": {
        "id": "kpwx9nEWtUGT",
        "colab_type": "code",
        "colab": {
          "base_uri": "https://localhost:8080/",
          "height": 35
        },
        "outputId": "c0c675d3-d2f0-41d9-fc7a-fae924280b0a"
      },
      "source": [
        "suffix_fucntion('ababab', 'ab')"
      ],
      "execution_count": 3,
      "outputs": [
        {
          "output_type": "execute_result",
          "data": {
            "text/plain": [
              "True"
            ]
          },
          "metadata": {
            "tags": []
          },
          "execution_count": 3
        }
      ]
    },
    {
      "cell_type": "code",
      "metadata": {
        "id": "ytPBLEp8tXdB",
        "colab_type": "code",
        "colab": {
          "base_uri": "https://localhost:8080/",
          "height": 35
        },
        "outputId": "e735a8ab-e6d1-4ace-c085-17540063aa15"
      },
      "source": [
        "suffix_fucntion('abbb', 'ab')"
      ],
      "execution_count": 4,
      "outputs": [
        {
          "output_type": "execute_result",
          "data": {
            "text/plain": [
              "False"
            ]
          },
          "metadata": {
            "tags": []
          },
          "execution_count": 4
        }
      ]
    },
    {
      "cell_type": "markdown",
      "metadata": {
        "id": "F7g-MwMnvWGq",
        "colab_type": "text"
      },
      "source": [
        "### Define the transition function $\\delta(q, a)$:"
      ]
    },
    {
      "cell_type": "code",
      "metadata": {
        "id": "e-3jr4eEtbCz",
        "colab_type": "code",
        "colab": {}
      },
      "source": [
        "def compute_transition_function(p, alphabet):\n",
        "  m = len(p)\n",
        "  transition = np.zeros([m + 1, len(alphabet)])\n",
        "  for q in range(0, m + 1):\n",
        "    for a in range(len(alphabet)):\n",
        "      k = min(m + 1, q + 2)\n",
        "      k -= 1\n",
        "      while not suffix_fucntion(p[:q] + alphabet[a], p[:k]):\n",
        "        k -= 1\n",
        "      transition[q, a] = k\n",
        "  return transition"
      ],
      "execution_count": 0,
      "outputs": []
    },
    {
      "cell_type": "markdown",
      "metadata": {
        "id": "SxMPjBvNvhAq",
        "colab_type": "text"
      },
      "source": [
        "### Define the finite automaton matcher:"
      ]
    },
    {
      "cell_type": "code",
      "metadata": {
        "id": "6f0dgQQwvTFb",
        "colab_type": "code",
        "colab": {}
      },
      "source": [
        "def finite_automaton_matcher(T, transition, m, alphabet):\n",
        "  n = len(T)\n",
        "  q = 0\n",
        "  shifts = []\n",
        "  for i, a in enumerate(T):\n",
        "    q = transition[int(q), alphabet.index(a)]\n",
        "    if q == m:\n",
        "      shifts.append(i - m + 1)\n",
        "  return shifts"
      ],
      "execution_count": 0,
      "outputs": []
    },
    {
      "cell_type": "markdown",
      "metadata": {
        "id": "DIijtIPowmQ6",
        "colab_type": "text"
      },
      "source": [
        "### Check the solution of the first problem:"
      ]
    },
    {
      "cell_type": "code",
      "metadata": {
        "id": "Qa13rJEXwqhO",
        "colab_type": "code",
        "colab": {}
      },
      "source": [
        "alphabet = ['a', 'b']\n",
        "p = 'ababbab'\n",
        "T = 'bababbababbababb'"
      ],
      "execution_count": 0,
      "outputs": []
    },
    {
      "cell_type": "code",
      "metadata": {
        "id": "gev4WcTAw2jR",
        "colab_type": "code",
        "colab": {}
      },
      "source": [
        "delta = compute_transition_function(p, alphabet)"
      ],
      "execution_count": 0,
      "outputs": []
    },
    {
      "cell_type": "code",
      "metadata": {
        "id": "OXNu7DfSxB_7",
        "colab_type": "code",
        "colab": {}
      },
      "source": [
        "valid_shifts = finite_automaton_matcher(T, delta, len(p), alphabet)"
      ],
      "execution_count": 0,
      "outputs": []
    },
    {
      "cell_type": "code",
      "metadata": {
        "id": "gYgic7RUw9RX",
        "colab_type": "code",
        "colab": {
          "base_uri": "https://localhost:8080/",
          "height": 164
        },
        "outputId": "efa3386f-178e-4bd7-8557-7f1a97c2eb22"
      },
      "source": [
        "print(delta)"
      ],
      "execution_count": 10,
      "outputs": [
        {
          "output_type": "stream",
          "text": [
            "[[1. 0.]\n",
            " [1. 2.]\n",
            " [3. 0.]\n",
            " [1. 4.]\n",
            " [3. 5.]\n",
            " [6. 0.]\n",
            " [1. 7.]\n",
            " [3. 0.]]\n"
          ],
          "name": "stdout"
        }
      ]
    },
    {
      "cell_type": "code",
      "metadata": {
        "id": "pt5_EAk0y2Vf",
        "colab_type": "code",
        "colab": {
          "base_uri": "https://localhost:8080/",
          "height": 35
        },
        "outputId": "9169badc-1718-40be-e83f-a16a9c74d509"
      },
      "source": [
        "print(valid_shifts)"
      ],
      "execution_count": 11,
      "outputs": [
        {
          "output_type": "stream",
          "text": [
            "[1, 6]\n"
          ],
          "name": "stdout"
        }
      ]
    }
  ]
}